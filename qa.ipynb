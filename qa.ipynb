{
 "cells": [
  {
   "cell_type": "code",
   "execution_count": null,
   "metadata": {},
   "outputs": [],
   "source": [
    "import os\n",
    "from langchain_openai import OpenAI\n",
    "from langchain.prompts import PromptTemplate\n",
    "from langchain.document_loaders import DirectoryLoader\n",
    "from langchain_openai import OpenAIEmbeddings\n",
    "from langchain_community.vectorstores import Pinecone as LangPicone\n",
    "from langchain.text_splitter import RecursiveCharacterTextSplitter\n",
    "from langchain.chains.question_answering import load_qa_chain\n",
    "from pinecone import Pinecone as PineconeClient"
   ]
  },
  {
   "cell_type": "code",
   "execution_count": null,
   "metadata": {},
   "outputs": [],
   "source": [
    "#initialize openai and pinecone keys\n",
    "openai_key = \"\"\n",
    "pinecone_key = \"\"\n",
    "pinecone_env = \"\"\n",
    "pinecone_index = \"\"\n",
    "os.environ['PINECONE_API_KEY'] = pinecone_key\n",
    "os.environ[\"OPENAI_API_KEY\"] = openai_key"
   ]
  },
  {
   "cell_type": "code",
   "execution_count": null,
   "metadata": {},
   "outputs": [],
   "source": [
    "# Initialize HYPERPARAMETERS\n",
    "\n",
    "chunck_size = 1000 # commonly used -> 1000\n",
    "chunck_overlap = 0"
   ]
  },
  {
   "cell_type": "code",
   "execution_count": null,
   "metadata": {},
   "outputs": [],
   "source": [
    "# load the docs\n",
    "dic = 'path/to/docs'\n",
    "docs = DirectoryLoader(dic).load()"
   ]
  },
  {
   "cell_type": "code",
   "execution_count": null,
   "metadata": {},
   "outputs": [],
   "source": [
    "# convert the doc to list\n",
    "docs_list = [d.page_content for d in docs]\n",
    "docs_list"
   ]
  },
  {
   "cell_type": "code",
   "execution_count": null,
   "metadata": {},
   "outputs": [],
   "source": [
    "# Split the docs into small chunks\n",
    "# Tech used -> recusrsive splitting\n",
    "\n",
    "splitter = RecursiveCharacterTextSplitter(chunk_size=chunck_size, chunk_overlap=chunck_overlap)\n",
    "split_docs = splitter.create_documents(docs_list)\n",
    "split_docs_list = [d.page_content for d in split_docs]\n",
    "split_docs_list"
   ]
  },
  {
   "cell_type": "code",
   "execution_count": null,
   "metadata": {},
   "outputs": [],
   "source": [
    "# get the embeddings of the chunks\n",
    "embdClient = OpenAIEmbeddings(openai_api_key=openai_key)\n",
    "docEmbd = LangPicone.from_texts(split_docs_list,embdClient, index_name=pinecone_index)"
   ]
  },
  {
   "cell_type": "code",
   "execution_count": null,
   "metadata": {},
   "outputs": [],
   "source": [
    "qn = input('\\nQuestion:\\t')\n",
    "\n",
    "relevantDoc_score = docEmbd.similarity_search_with_score(qn)\n",
    "relevantDoc = [d[0] for d in relevantDoc_score]\n",
    "\n",
    "model = OpenAI(temperature=0.5)\n",
    "chain = load_qa_chain(model,chain_type='stuff')\n",
    "\n",
    "ans = chain.run(input_documents=relevantDoc,question=qn)\n",
    "print(f'\\nqn:\\t{qn}\\nAnswer:\\t{ans}')\n",
    "\n",
    "top_3_chunks = []\n",
    "print('\\nTop 3 chunks (stored in top_3_chunks)\\nScore\\tChunk\\n')\n",
    "for i in range(3):\n",
    "    print(f'Score:\\t{relevantDoc_score[i][1]}\\nChunk:\\t{relevantDoc_score[i][0].page_content}\\n')\n",
    "    top_3_chunks.append(relevantDoc_score[i][0].page_content)"
   ]
  }
 ],
 "metadata": {
  "kernelspec": {
   "display_name": "Python 3",
   "language": "python",
   "name": "python3"
  },
  "language_info": {
   "codemirror_mode": {
    "name": "ipython",
    "version": 3
   },
   "file_extension": ".py",
   "mimetype": "text/x-python",
   "name": "python",
   "nbconvert_exporter": "python",
   "pygments_lexer": "ipython3",
   "version": "3.11.5"
  }
 },
 "nbformat": 4,
 "nbformat_minor": 2
}
